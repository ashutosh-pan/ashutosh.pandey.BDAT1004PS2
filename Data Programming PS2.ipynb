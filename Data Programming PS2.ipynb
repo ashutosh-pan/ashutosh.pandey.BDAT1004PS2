{
 "cells": [
  {
   "cell_type": "markdown",
   "id": "e7524595",
   "metadata": {},
   "source": [
    "# Question1"
   ]
  },
  {
   "cell_type": "code",
   "execution_count": 92,
   "id": "7a37515c",
   "metadata": {},
   "outputs": [
    {
     "data": {
      "text/plain": [
       "6"
      ]
     },
     "execution_count": 92,
     "metadata": {},
     "output_type": "execute_result"
    }
   ],
   "source": [
    "a = 0\n",
    "def b():\n",
    "    global a       \n",
    "    a = c(a)\n",
    "def c(a):\n",
    " return a + 2\n",
    "b()\n",
    "b()\n",
    "b()\n",
    "a"
   ]
  },
  {
   "cell_type": "markdown",
   "id": "a349b9fd",
   "metadata": {},
   "source": [
    "# Explanation question 1:"
   ]
  },
  {
   "cell_type": "code",
   "execution_count": null,
   "id": "7323b2a8",
   "metadata": {},
   "outputs": [],
   "source": [
    "What value is displayed when the last expression (a) is evaluated? 6\n",
    "when above code is compiled\n",
    "value of a is initialised as 0\n",
    "than function b is called. In there variable a is defined as global which means it is accessible throughout the program. \n",
    "now a is changing it's value every by 2 when function b is called. \n",
    "\n",
    "since b() has been called thrice value of a has now become 6 which is the output"
   ]
  },
  {
   "cell_type": "markdown",
   "id": "7ec34db2",
   "metadata": {},
   "source": [
    "# Question2"
   ]
  },
  {
   "cell_type": "code",
   "execution_count": 11,
   "id": "5a574b0e",
   "metadata": {},
   "outputs": [
    {
     "name": "stdout",
     "output_type": "stream",
     "text": [
      "101\n",
      "loodtype1.txt does not exist. Try with correct file name or format\n"
     ]
    }
   ],
   "source": [
    "def file_length(file_name):\n",
    "    \n",
    "    #using try and except blocks to run the program.\n",
    "    try:\n",
    "        file = open(file_name)\n",
    "        contents = file.read()\n",
    "        file.close()\n",
    "        print(len(contents))\n",
    "        \n",
    "    #except block\n",
    "    except:\n",
    "        print('{} does not exist. Try with correct file name or format'.format(file_name))\n",
    "\n",
    "#calling functions\n",
    "file_length(\"bloodtype1.txt\")\n",
    "file_length(\"loodtype1.txt\")\n"
   ]
  },
  {
   "cell_type": "markdown",
   "id": "421ec503",
   "metadata": {},
   "source": [
    "# Question3"
   ]
  },
  {
   "cell_type": "code",
   "execution_count": 38,
   "id": "60a53e6c",
   "metadata": {},
   "outputs": [
    {
     "data": {
      "text/plain": [
       "['doll', 'firetruck', 'kitten']"
      ]
     },
     "execution_count": 38,
     "metadata": {},
     "output_type": "execute_result"
    }
   ],
   "source": [
    "#creating class marsupial\n",
    "class Marsupial:\n",
    "    def __init__(self):               #initialising\n",
    "        self.pouch = []\n",
    "\n",
    "    def put_in_pouch(self, item):     #put in fuction\n",
    "        self.pouch.append(item)\n",
    "\n",
    "    def pouch_contents(self):         #contents function\n",
    "        return self.pouch\n",
    "\n",
    "#performing inheritance \n",
    "class Kangaroo(Marsupial):\n",
    "    def __init__(self, x=0, y=0):\n",
    "        super().__init__()\n",
    "        self.x = x\n",
    "        self.y = y\n",
    "\n",
    "    def jump(self, dx, dy):\n",
    "        self.x += dx\n",
    "        self.y += dy\n",
    "\n",
    "    def __str__(self):\n",
    "        return f\"I am a Kangaroo located at coordinates ({self.x},{self.y})\"\n",
    "    \n",
    "#PART-1\n",
    "m = Marsupial()\n",
    "m.put_in_pouch('doll')\n",
    "m.put_in_pouch('firetruck')\n",
    "m.put_in_pouch('kitten')\n",
    "m.pouch_contents()\n"
   ]
  },
  {
   "cell_type": "code",
   "execution_count": 39,
   "id": "4f03389d",
   "metadata": {},
   "outputs": [
    {
     "name": "stdout",
     "output_type": "stream",
     "text": [
      "I am a Kangaroo located at coordinates (0,0)\n",
      "['doll', 'firetruck', 'kitten']\n",
      "I am a Kangaroo located at coordinates (3,0)\n"
     ]
    }
   ],
   "source": [
    "#PART-2\n",
    "\n",
    "#creating object\n",
    "k = Kangaroo(0, 0)\n",
    "print(k)\n",
    "#adding item to pouch\n",
    "k.put_in_pouch('doll')\n",
    "k.put_in_pouch('firetruck')\n",
    "k.put_in_pouch('kitten')\n",
    "print(k.pouch_contents()) \n",
    "\n",
    "k.jump(1, 0)\n",
    "k.jump(1, 0)\n",
    "k.jump(1, 0)\n",
    "\n",
    "#print the location\n",
    "print(k) "
   ]
  },
  {
   "cell_type": "markdown",
   "id": "b68b26af",
   "metadata": {},
   "source": [
    "# Question4"
   ]
  },
  {
   "cell_type": "code",
   "execution_count": 46,
   "id": "ea76b616",
   "metadata": {},
   "outputs": [
    {
     "name": "stdout",
     "output_type": "stream",
     "text": [
      "1\n"
     ]
    }
   ],
   "source": [
    "def collatz(x):\n",
    "    #printing number since question asked to start from number only \n",
    "    print(x)\n",
    "    \n",
    "    #chechking with condition if number is 1\n",
    "    if x == 1:\n",
    "        return\n",
    "    \n",
    "    #checking if number is even\n",
    "    elif (x % 2 == 0):\n",
    "        collatz(x // 2)\n",
    "        \n",
    "    #for any other value apart from even and 1\n",
    "    else:\n",
    "        collatz(3*x + 1)\n",
    "        \n",
    "#Part-1\n",
    "collatz(1)"
   ]
  },
  {
   "cell_type": "code",
   "execution_count": 45,
   "id": "2b539781",
   "metadata": {},
   "outputs": [
    {
     "name": "stdout",
     "output_type": "stream",
     "text": [
      "10\n",
      "5\n",
      "16\n",
      "8\n",
      "4\n",
      "2\n",
      "1\n"
     ]
    }
   ],
   "source": [
    "#Part-2\n",
    "collatz(10)"
   ]
  },
  {
   "cell_type": "markdown",
   "id": "738551dd",
   "metadata": {},
   "source": [
    "# Question5"
   ]
  },
  {
   "cell_type": "code",
   "execution_count": 71,
   "id": "5744e484",
   "metadata": {},
   "outputs": [
    {
     "name": "stdout",
     "output_type": "stream",
     "text": [
      "0\n",
      "\n",
      "1\n",
      "\n",
      "11\n",
      "\n",
      "1001"
     ]
    }
   ],
   "source": [
    "def binary(n):\n",
    "    if n > 1:\n",
    "        #using recursive funtion if number is greater than 1 and \n",
    "        binary(n // 2)\n",
    "    bin = n % 2\n",
    "    print(bin, end = '')\n",
    "\n",
    "binary(0)\n",
    "print('\\n')\n",
    "binary(1)\n",
    "print('\\n')\n",
    "binary(3)\n",
    "print('\\n')\n",
    "binary(9)"
   ]
  },
  {
   "cell_type": "markdown",
   "id": "36862b8c",
   "metadata": {},
   "source": [
    "# Question6"
   ]
  },
  {
   "cell_type": "code",
   "execution_count": null,
   "id": "82ea3743",
   "metadata": {},
   "outputs": [],
   "source": []
  },
  {
   "cell_type": "markdown",
   "id": "f65360b0",
   "metadata": {},
   "source": [
    "# Question7"
   ]
  },
  {
   "cell_type": "code",
   "execution_count": null,
   "id": "5557b84f",
   "metadata": {},
   "outputs": [],
   "source": []
  },
  {
   "cell_type": "markdown",
   "id": "8983f206",
   "metadata": {},
   "source": [
    "# Question8"
   ]
  },
  {
   "cell_type": "code",
   "execution_count": null,
   "id": "612591f8",
   "metadata": {},
   "outputs": [],
   "source": [
    "Write SQL queries on the below database table that return: \n",
    "#assuming the name of table is DATA\n",
    "\n",
    "a) All the temperature data.\n",
    "ANSWER: \n",
    "    Select temperature from data\n",
    "\n",
    "b) All the cities, but without repetition.\n",
    "ANSWER: \n",
    "    Select distinct city from data\n",
    "    \n",
    "c) All the records for India.\n",
    "ANSWER: \n",
    "    Select * from data \n",
    "    where country = 'india'\n",
    "    \n",
    "d) All the Fall records.\n",
    "ANSWER: \n",
    "    Select * from data \n",
    "    where season = 'fall'\n",
    "    \n",
    "e) The city, country, and season for which the average rainfall is between 200 and 400 millimeters.\n",
    "ANSWER: \n",
    "    Select city, country, season from data \n",
    "    where rainfall > 200 && rainfall < 400\n",
    "    \n",
    "f) The city and country for which the average Fall temperature is above 20 degrees, in increasing temperature order.\n",
    "ANSWER: \n",
    "    Select city, country from data \n",
    "    where temperature > 20 \n",
    "    order by temperature asc\n",
    "    \n",
    "g) The total annual rainfall for Cairo.\n",
    "ANSWER:\n",
    "    Select sum (rainfall) from data \n",
    "    where city = 'Cairo'\n",
    "    \n",
    "h) The total rainfall for each season.\n",
    "ANSWER: \n",
    "    Select sum (rainfall) from data \n",
    "    group by season"
   ]
  },
  {
   "cell_type": "markdown",
   "id": "437fd5d8",
   "metadata": {},
   "source": [
    "# Question9"
   ]
  },
  {
   "cell_type": "code",
   "execution_count": 91,
   "id": "dd63054c",
   "metadata": {},
   "outputs": [
    {
     "name": "stdout",
     "output_type": "stream",
     "text": [
      "Answer is: \n",
      "['THE', 'QUICK', 'BROWN', 'FOX', 'JUMPS', 'OVER', 'THE', 'LAZY', 'DOG'] \n",
      "['the', 'quick', 'brown', 'fox', 'jumps', 'over', 'the', 'lazy', 'dog'] \n",
      "[3, 5, 5, 3, 5, 4, 3, 4, 3] \n",
      "[['THE', 'the', 3], ['QUICK', 'quick', 5], ['BROWN', 'brown', 5], ['FOX', 'fox', 3], ['JUMPS', 'jumps', 5], ['OVER', 'over', 4], ['THE', 'the', 3], ['LAZY', 'lazy', 4], ['DOG', 'dog', 3]] \n",
      "['quick', 'brown', 'jumps', 'over', 'lazy']\n"
     ]
    }
   ],
   "source": [
    "words = ['The', 'quick', 'brown', 'fox', 'jumps', 'over', 'the', 'lazy', 'dog']\n",
    "words_upper = [word.upper() for word in words]\n",
    "words_lower = [word.lower() for word in words]\n",
    "words_lengths = [len(word) for word in words]\n",
    "words_info = [[word.upper(), word.lower(), len(word)] for word in words]\n",
    "words_4_or_more = [word for word in words if len(word) >= 4]\n",
    "\n",
    "print(\"Answer is: \\n{} \\n{} \\n{} \\n{} \\n{}\".format(words_upper, words_lower, words_lengths, words_info, words_4_or_more))"
   ]
  }
 ],
 "metadata": {
  "kernelspec": {
   "display_name": "Python 3 (ipykernel)",
   "language": "python",
   "name": "python3"
  },
  "language_info": {
   "codemirror_mode": {
    "name": "ipython",
    "version": 3
   },
   "file_extension": ".py",
   "mimetype": "text/x-python",
   "name": "python",
   "nbconvert_exporter": "python",
   "pygments_lexer": "ipython3",
   "version": "3.9.13"
  }
 },
 "nbformat": 4,
 "nbformat_minor": 5
}
